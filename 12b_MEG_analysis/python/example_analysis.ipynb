{
 "cells": [
  {
   "cell_type": "code",
   "execution_count": null,
   "id": "71954409-b26c-4891-a7e5-ecbc03184e7a",
   "metadata": {},
   "outputs": [],
   "source": [
    "\n",
    "#%% IMPORTS OF PACKAGES\n",
    "\n",
    "import mne\n",
    "from os.path import join\n",
    "import matplotlib.pyplot as plt\n",
    "plt.ion() #toggle interactive plotting\n",
    "# import numpy as np"
   ]
  },
  {
   "cell_type": "code",
   "execution_count": null,
   "id": "842af463-4ac4-43d5-9502-023050a96b0a",
   "metadata": {},
   "outputs": [],
   "source": [
    "#%% PATHS FOR EXAMPLE ANALYSIS\n",
    "\n",
    "meg_path = '/home/lau/analyses/undervisning_cs/raw/' + \\\n",
    "     '0108/20230928_000000/MEG/001.self_block1/files'\n",
    "bem_path = '/home/lau/analyses/undervisning_cs/scratch/' + \\\n",
    "     'freesurfer/0108/bem' \n",
    "subjects_dir = '/home/lau/analyses/undervisning_cs/scratch/freesurfer/'      \n",
    "raw_name = 'self_block1.fif'\n",
    "fwd_name = 'self_block1-oct-6-src-5120-fwd.fif'"
   ]
  },
  {
   "cell_type": "code",
   "execution_count": null,
   "id": "e24c8680-72e1-43d9-8d19-b033ceda7414",
   "metadata": {},
   "outputs": [],
   "source": [
    "#%% READ RAW AND PLOT\n",
    "\n",
    "raw = mne.io.read_raw_fif(join(meg_path, raw_name), preload=True)\n",
    "raw.plot() ## what happens after 10 seconds?\n",
    "raw.compute_psd(n_jobs=-1).plot()\n",
    "raw.compute_psd(n_jobs=-1, tmax=9).plot()"
   ]
  },
  {
   "cell_type": "code",
   "execution_count": null,
   "id": "9590424d-a06e-49ca-a643-c994d9bdb63d",
   "metadata": {},
   "outputs": [],
   "source": [
    "#%% FILTER RAW\n",
    "\n",
    "raw.filter(l_freq=None, h_freq=40, n_jobs=4) # alters raw in-place\n",
    "raw.compute_psd(n_jobs=-1).plot()\n",
    "raw.plot()"
   ]
  },
  {
   "cell_type": "code",
   "execution_count": null,
   "id": "e922c459-fa68-40d7-95c5-593bc3c6f232",
   "metadata": {},
   "outputs": [],
   "source": [
    "#%% CONCATENATION OF RAWS - cannot be done without MaxFilter\n",
    "# and setting the destination argument\n",
    "\n",
    "# mne.preprocess.maxwell_filter"
   ]
  },
  {
   "cell_type": "code",
   "execution_count": null,
   "id": "2d02e9d7-6f40-4e8b-8ec3-8fb67d4c0104",
   "metadata": {},
   "outputs": [],
   "source": [
    "#%% FIND EVENTS\n",
    "\n",
    "# events = mne.find_events(raw)#, min_duration=0.002) ## returns a numpy array\n",
    "events = mne.find_events(raw, min_duration=0.002) ## returns a numpy array\n",
    "\n",
    "mne.viz.plot_events(events) ## samples on x-axis\n",
    "mne.viz.plot_events(events, sfreq=raw.info['sfreq']) ## #%% SEGMENT DATA INTO EPOCHS\n",
    "\n",
    "event_id = dict(self_positive=11, self_negative=12, button_press=23,\n",
    "                incorrect_response=202)\n",
    "# reject = dict(mag=4e-12, grad=4000e-13, eog=250e-6) # T, T/m, V\n",
    "reject = None\n",
    "epochs = mne.Epochs(raw, events, event_id, tmin=-0.200, tmax=1.000,\n",
    "                    baseline=(None, 0), reject=reject, preload=True,\n",
    "                    proj=False) ## have proj True, if you wanna reject\n",
    "\n",
    "epochs.pick_types(meg=True, eog=False, ias=False, emg=False, misc=False,\n",
    "                  stim=False, syst=False)\n",
    "\n",
    "epochs.plot()"
   ]
  },
  {
   "cell_type": "code",
   "execution_count": null,
   "id": "d58b542b-894d-45a4-bf7a-c8d2b0ac6db6",
   "metadata": {},
   "outputs": [],
   "source": [
    "#%% EVOKED - AVERAGE - projs not applied\n",
    "\n",
    "evokeds = list()\n",
    "for event in event_id:\n",
    "\n",
    "    evoked = epochs[event].average()\n",
    "    evokeds.append(evoked)\n",
    "    evoked.plot(window_title=evoked.comment)"
   ]
  },
  {
   "cell_type": "code",
   "execution_count": null,
   "id": "5d2de009-4f51-48e6-be4c-846f7674a975",
   "metadata": {},
   "outputs": [],
   "source": [
    "#%% PROJS\n",
    "mne.viz.plot_projs_topomap(evoked.info['projs'], evoked.info)\n",
    "\n",
    "epochs.apply_proj()\n",
    "\n",
    "evokeds = list()\n",
    "for event in event_id:\n",
    "\n",
    "    evoked = epochs[event].average()\n",
    "    evokeds.append(evoked)\n",
    "    evoked.plot(window_title=evoked.comment)\n"
   ]
  },
  {
   "cell_type": "code",
   "execution_count": null,
   "id": "ab1ff8c9-9c1f-46a5-8d58-5185f86d2561",
   "metadata": {},
   "outputs": [],
   "source": [
    "#%% ARRAY OF INTEREST FOR CLASSIFICATIION\n",
    "\n",
    "X = epochs.get_data()"
   ]
  },
  {
   "cell_type": "code",
   "execution_count": null,
   "id": "0ae7677b-b80d-4c2b-93d9-a63299fdc88f",
   "metadata": {},
   "outputs": [],
   "source": [
    "#%% SOURCE RECONSTRUCTION\n",
    "\n",
    "#%% read forward solution\n",
    "fwd = mne.read_forward_solution(join(bem_path, fwd_name))\n",
    "src = fwd['src'] # where are the sources\n",
    "trans = fwd['mri_head_t'] # what's the transformation between mri and head\n",
    "info = epochs.info # where are the sensors?\n",
    "bem_sol = fwd['sol'] # how do electric fields spread from the sources inside the head?\n",
    "bem = join(bem_path, '0108-5120-bem.fif')"
   ]
  },
  {
   "cell_type": "code",
   "execution_count": null,
   "id": "4ff25a10-cdef-4d97-95ea-2c97a40983ff",
   "metadata": {},
   "outputs": [],
   "source": [
    "\n",
    "#%% plot source space\n",
    "src.plot(trans=trans, subjects_dir=subjects_dir)\n",
    "src.plot(trans=fwd['mri_head_t'], subjects_dir=subjects_dir, head=True,\n",
    "         skull='inner_skull')\n",
    "mne.viz.plot_alignment(info, trans=trans, subject='0108',\n",
    "                       subjects_dir=subjects_dir, src=src,\n",
    "                       bem=bem, dig=True, mri_fiducials=True)"
   ]
  },
  {
   "cell_type": "code",
   "execution_count": null,
   "id": "4f71bc9d-f575-476d-8f7b-172f4174b587",
   "metadata": {},
   "outputs": [],
   "source": [
    "#%% estimate covariance in the baseline to whiten magnetometers and \n",
    "#   gradiometers\n",
    "noise_cov = mne.compute_covariance(epochs, tmax=0.000)\n",
    "noise_cov.plot(epochs.info) # not full range due to projectors projected out"
   ]
  },
  {
   "cell_type": "code",
   "execution_count": null,
   "id": "8c929f93-b904-45cf-b337-402c9d7351b1",
   "metadata": {},
   "outputs": [],
   "source": [
    "#%% operator that specifies hpw noise cov should be applied to the fwd\n",
    "evoked = evokeds[0]\n",
    "inv = mne.minimum_norm.make_inverse_operator(evoked.info, fwd, noise_cov)"
   ]
  },
  {
   "cell_type": "code",
   "execution_count": null,
   "id": "59585005-304b-4737-bb6b-158417961437",
   "metadata": {},
   "outputs": [],
   "source": [
    "#%% estimate source time courses for evoked responses\n",
    "stc = mne.minimum_norm.apply_inverse(evoked, inv, method='MNE')\n",
    "print(stc.data.shape)\n",
    "print(src)\n",
    "\n",
    "stc.plot(subjects_dir=subjects_dir, hemi='both', initial_time=0.170)"
   ]
  },
  {
   "cell_type": "code",
   "execution_count": null,
   "id": "7212dc1c-1ea1-44bf-80af-d8f93b99be7a",
   "metadata": {},
   "outputs": [],
   "source": [
    "#%% load the morph to the template brain - allows for averaging across subjects\n",
    "morph_name = '0108-oct-6-src-morph.h5'\n",
    "morph = mne.read_source_morph(join(bem_path, morph_name))"
   ]
  },
  {
   "cell_type": "code",
   "execution_count": null,
   "id": "91c9c877-d8a1-4755-bffc-889c20d2744b",
   "metadata": {},
   "outputs": [],
   "source": [
    "#%%# apply the morph to the subject - bringing them into template space\n",
    "## this allows for averaging of subjects in source space\n",
    "stc_morph = morph.apply(stc)\n",
    "stc_morph.plot(subjects_dir=subjects_dir, hemi='both', initial_time=0.170,\n",
    "               subject='fsaverage')\n"
   ]
  },
  {
   "cell_type": "code",
   "execution_count": null,
   "id": "7b185e3d-ed96-44d5-8673-34f54c58ca9a",
   "metadata": {},
   "outputs": [],
   "source": [
    "#%%# reconstruct individual epochs instead of evoked\n",
    "stcs = mne.minimum_norm.apply_inverse_epochs(epochs, inv,\n",
    "                                             lambda2=1, method='MNE',\n",
    "                                             pick_ori='normal')\n",
    "\n",
    "# Mean across epochs - why do we have negative values now as well?\n",
    "mean_stc = sum(stcs) / len(stcs)\n",
    "mean_stc.plot(subjects_dir=subjects_dir, hemi='both', initial_time=0.170)"
   ]
  },
  {
   "cell_type": "code",
   "execution_count": null,
   "id": "28c31977-c675-4691-b3f0-8f14a94e62f2",
   "metadata": {},
   "outputs": [],
   "source": [
    "#%% reconstructing single labels\n",
    "\n",
    "def reconstruct_label(label_name):\n",
    "    label = mne.read_label(join(bem_path, '..', 'label', label_name))\n",
    "\n",
    "    stcs = mne.minimum_norm.apply_inverse_epochs(epochs, inv,\n",
    "                                             lambda2=1, method='MNE',\n",
    "                                             pick_ori='normal', label=label)\n",
    "\n",
    "    mean_stc = sum(stcs) / len(stcs) # over trials, not vertices\n",
    "    return mean_stc\n",
    "\n",
    "ltc = reconstruct_label('lh.BA44_exvivo.label')\n",
    "## check the label path for more labels\n",
    "\n",
    "plt.figure()\n",
    "plt.plot(ltc.times, ltc.data.T)\n",
    "plt.show()"
   ]
  }
 ],
 "metadata": {
  "kernelspec": {
   "display_name": "Python 3 (ipykernel)",
   "language": "python",
   "name": "python3"
  },
  "language_info": {
   "codemirror_mode": {
    "name": "ipython",
    "version": 3
   },
   "file_extension": ".py",
   "mimetype": "text/x-python",
   "name": "python",
   "nbconvert_exporter": "python",
   "pygments_lexer": "ipython3",
   "version": "3.9.16"
  }
 },
 "nbformat": 4,
 "nbformat_minor": 5
}
