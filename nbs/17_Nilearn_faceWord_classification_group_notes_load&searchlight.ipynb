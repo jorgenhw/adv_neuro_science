{
 "cells": [
  {
   "cell_type": "markdown",
   "metadata": {},
   "source": [
    "# Making a trial by trial fit of faceWord dataand using that for searchligth classificiation\n",
    "\n",
    "This tutorial will load models and data from tutorial 13 and change the design matrix to one that gives a beta estimate for each trial."
   ]
  },
  {
   "cell_type": "code",
   "execution_count": 5,
   "metadata": {
    "execution": {
     "iopub.execute_input": "2022-11-28T10:18:25.242415Z",
     "iopub.status.busy": "2022-11-28T10:18:25.241718Z",
     "iopub.status.idle": "2022-11-28T10:18:44.928065Z",
     "shell.execute_reply": "2022-11-28T10:18:44.926749Z",
     "shell.execute_reply.started": "2022-11-28T10:18:25.242361Z"
    },
    "tags": []
   },
   "outputs": [
    {
     "name": "stdout",
     "output_type": "stream",
     "text": [
      "Starting cell: 11:18:25\n"
     ]
    },
    {
     "name": "stderr",
     "output_type": "stream",
     "text": [
      "/opt/conda/lib/python3.10/site-packages/_distutils_hack/__init__.py:33: UserWarning: Setuptools is replacing distutils.\n",
      "  warnings.warn(\"Setuptools is replacing distutils.\")\n"
     ]
    },
    {
     "name": "stdout",
     "output_type": "stream",
     "text": [
      "Finishing cell: 11:18:44\n"
     ]
    }
   ],
   "source": [
    "# import some functionality\n",
    "from datetime import datetime\n",
    "\n",
    "now = datetime.now()\n",
    "print('Starting cell:',now.strftime(\"%H:%M:%S\"))\n",
    "import os\n",
    "import pip\n",
    "os.system('python -m pip install numpy')\n",
    "os.system('python -m pip install matplotlib')\n",
    "os.system('python -m pip install scipy')\n",
    "os.system('python -m pip install panda')\n",
    "os.system('python -m pip install nilearn')\n",
    "os.system('python -m pip install sklearn')\n",
    "os.system('python -m pip install pickle')\n",
    "os.system('python -m pip install atlasreader')\n",
    "os.system('python -m pip install seaborn')\n",
    "\n",
    "#import os.path as op\n",
    "import numpy as np\n",
    "import pandas as pd\n",
    "import matplotlib.pyplot as plt\n",
    "#from scipy.ndimage import gaussian_filter\n",
    "\n",
    "%matplotlib inline\n",
    "\n",
    "now = datetime.now()\n",
    "print('Finishing cell:',now.strftime(\"%H:%M:%S\"))"
   ]
  },
  {
   "cell_type": "code",
   "execution_count": 6,
   "metadata": {
    "execution": {
     "iopub.execute_input": "2022-11-28T10:19:15.283823Z",
     "iopub.status.busy": "2022-11-28T10:19:15.283122Z",
     "iopub.status.idle": "2022-11-28T10:20:17.036016Z",
     "shell.execute_reply": "2022-11-28T10:20:17.035204Z",
     "shell.execute_reply.started": "2022-11-28T10:19:15.283764Z"
    },
    "tags": []
   },
   "outputs": [
    {
     "name": "stdout",
     "output_type": "stream",
     "text": [
      "Starting cell: 11:19:15\n",
      "Finishing cell: 11:20:17\n"
     ]
    }
   ],
   "source": [
    "import pickle\n",
    "\n",
    "now = datetime.now()\n",
    "print('Starting cell:',now.strftime(\"%H:%M:%S\"))\n",
    "\n",
    "# Getting the first level models from tutorial 13:\n",
    "f = open('/work/82777/WordFace_first_level_models.pkl', 'rb')\n",
    "models, models_run_imgs, models_events, models_confounds = pickle.load(f)\n",
    "f.close()\n",
    "\n",
    "now = datetime.now()\n",
    "print('Finishing cell:',now.strftime(\"%H:%M:%S\"))"
   ]
  },
  {
   "cell_type": "markdown",
   "metadata": {},
   "source": [
    "## Saving/retrieving the fitted models and design matrices"
   ]
  },
  {
   "cell_type": "code",
   "execution_count": 2,
   "metadata": {
    "execution": {
     "iopub.execute_input": "2022-11-28T10:04:41.920734Z",
     "iopub.status.busy": "2022-11-28T10:04:41.919626Z",
     "iopub.status.idle": "2022-11-28T10:07:00.173159Z",
     "shell.execute_reply": "2022-11-28T10:07:00.172249Z",
     "shell.execute_reply.started": "2022-11-28T10:04:41.920654Z"
    },
    "tags": []
   },
   "outputs": [
    {
     "name": "stderr",
     "output_type": "stream",
     "text": [
      "/opt/conda/lib/python3.10/site-packages/nilearn/glm/__init__.py:55: FutureWarning: The nilearn.glm module is experimental. It may change in any future release of Nilearn.\n",
      "  warn('The nilearn.glm module is experimental. '\n"
     ]
    }
   ],
   "source": [
    "import pickle\n",
    "\n",
    "# Getting back the objects:\n",
    "f = open('/work/82777/WordFace_first_level_models_all_trials_all_par.pkl', 'rb')\n",
    "models_trials_all, lsa_dm = pickle.load(f)\n",
    "f.close()\n",
    "\n",
    "#print(model1[0])\n",
    "#now = datetime.now()\n",
    "#print('Finishing cell:',now.strftime(\"%H:%M:%S\"))"
   ]
  },
  {
   "cell_type": "markdown",
   "metadata": {},
   "source": [
    "## Load z maps and classification labels for each participant\n"
   ]
  },
  {
   "cell_type": "code",
   "execution_count": 7,
   "metadata": {
    "execution": {
     "iopub.execute_input": "2022-11-28T10:20:23.093990Z",
     "iopub.status.busy": "2022-11-28T10:20:23.093784Z",
     "iopub.status.idle": "2022-11-28T10:28:41.166338Z",
     "shell.execute_reply": "2022-11-28T10:28:41.163767Z",
     "shell.execute_reply.started": "2022-11-28T10:20:23.093971Z"
    },
    "tags": []
   },
   "outputs": [
    {
     "name": "stdout",
     "output_type": "stream",
     "text": [
      "Loading file 1\n",
      "\n",
      "Loading file 2\n",
      "\n",
      "Loading file 3\n",
      "\n",
      "Loading file 4\n",
      "\n",
      "Loading file 5\n",
      "\n",
      "Loading file 6\n",
      "\n",
      "Loading file 7\n",
      "\n",
      "Loading file 8\n",
      "\n",
      "Loading file 9\n",
      "\n",
      "Loading file 10\n",
      "\n",
      "Loading file 11\n",
      "\n",
      "Loading file 12\n",
      "\n",
      "Loading file 13\n",
      "\n",
      "Loading file 14\n",
      "\n",
      "Loading file 15\n",
      "\n",
      "Loading file 16\n",
      "\n",
      "Loading file 17\n",
      "\n",
      "Loading file 18\n",
      "\n",
      "Loading file 19\n",
      "\n",
      "Loading file 20\n",
      "\n",
      "Loading file 21\n",
      "\n",
      "Loading file 22\n",
      "\n",
      "['image_pos', 'image_neg', 'image_pos', 'image_pos', 'image_neg', 'image_pos', 'image_pos', 'image_neg', 'image_pos', 'image_neg', 'image_pos', 'image_neg', 'image_pos', 'image_neg', 'image_neg', 'image_neg', 'image_neg', 'image_neg', 'image_pos', 'image_pos', 'image_neg', 'image_pos', 'image_pos', 'image_neg', 'image_neg', 'image_neg', 'image_pos', 'image_neg', 'image_neg', 'image_neg', 'image_pos', 'image_pos', 'image_neg', 'image_pos', 'image_neg', 'image_neg', 'image_neg', 'image_pos', 'image_pos', 'image_pos', 'image_pos', 'image_pos', 'image_neg', 'image_pos', 'image_neg', 'image_pos', 'image_neg', 'image_pos', 'image_pos', 'image_neg', 'image_neg', 'image_neg', 'image_pos', 'image_neg', 'image_pos', 'image_pos', 'image_neg', 'image_neg', 'image_neg', 'image_pos', 'word_pos', 'word_neg', 'word_pos', 'word_pos', 'word_neg', 'word_neu', 'word_neu', 'word_neg', 'word_neu', 'word_neg', 'word_pos', 'word_neg', 'word_pos', 'word_neu', 'word_neg', 'word_neg', 'word_neg', 'word_neg', 'word_neu', 'word_pos', 'word_neu', 'word_neu', 'word_neu', 'word_neg', 'word_neg', 'word_neu', 'word_neu', 'word_neu', 'word_neu', 'word_neu', 'word_pos', 'word_pos', 'word_neg', 'word_pos', 'word_neu', 'word_neg', 'word_neg', 'word_pos', 'word_neu', 'word_pos', 'word_pos', 'word_pos', 'word_neg', 'word_pos', 'word_neg', 'word_pos', 'word_neu', 'word_pos', 'word_pos', 'word_neg', 'word_neg', 'word_neg', 'word_pos', 'word_neg', 'word_pos', 'word_pos', 'word_neu', 'word_neu', 'word_neu', 'word_neu', 'image_pos', 'image_pos', 'image_neg', 'image_neg', 'image_pos', 'image_pos', 'image_pos', 'image_neg', 'image_neg', 'image_pos', 'image_neg', 'image_pos', 'image_pos', 'image_pos', 'image_pos', 'image_pos', 'image_neg', 'image_neg', 'image_neg', 'image_pos', 'image_neg', 'image_pos', 'image_neg', 'image_neg', 'image_pos', 'image_neg', 'image_pos', 'image_pos', 'image_neg', 'image_neg', 'image_neg', 'image_neg', 'image_neg', 'image_neg', 'image_neg', 'image_pos', 'image_neg', 'image_pos', 'image_neg', 'image_pos', 'image_pos', 'image_neg', 'image_pos', 'image_neg', 'image_neg', 'image_pos', 'image_neg', 'image_pos', 'image_neg', 'image_neg', 'image_neg', 'image_neg', 'image_pos', 'image_pos', 'image_pos', 'image_pos', 'image_neg', 'image_neg', 'image_pos', 'image_pos', 'word_pos', 'word_pos', 'word_neu', 'word_neg', 'word_pos', 'word_pos', 'word_pos', 'word_neg', 'word_neg', 'word_pos', 'word_neg', 'word_neu', 'word_neu', 'word_pos', 'word_pos', 'word_neu', 'word_neg', 'word_neu', 'word_neu', 'word_neu', 'word_neg', 'word_pos', 'word_neg', 'word_neg', 'word_neu', 'word_neu', 'word_pos', 'word_pos', 'word_neg', 'word_neg', 'word_neg', 'word_neu', 'word_neg', 'word_neu', 'word_neg', 'word_pos', 'word_neg', 'word_neu', 'word_neg', 'word_pos', 'word_pos', 'word_neu', 'word_pos', 'word_neg', 'word_neg', 'word_pos', 'word_neu', 'word_neu', 'word_neg', 'word_neu', 'word_neg', 'word_neu', 'word_pos', 'word_pos', 'word_neu', 'word_pos', 'word_neg', 'word_neu', 'word_neu', 'word_pos', 'image_pos', 'image_pos', 'image_pos', 'image_neg', 'image_neg', 'image_pos', 'image_neg', 'image_pos', 'image_pos', 'image_neg', 'image_neg', 'image_neg', 'image_neg', 'image_neg', 'image_pos', 'image_pos', 'image_neg', 'image_neg', 'image_pos', 'image_pos', 'image_pos', 'image_pos', 'image_neg', 'image_pos', 'image_neg', 'image_neg', 'image_neg', 'image_neg', 'image_pos', 'image_pos', 'image_pos', 'image_neg', 'image_pos', 'image_neg', 'image_pos', 'image_pos', 'image_pos', 'image_pos', 'image_neg', 'image_neg', 'image_neg', 'image_pos', 'image_pos', 'image_pos', 'image_neg', 'image_neg', 'image_neg', 'image_pos', 'image_pos', 'image_pos', 'image_pos', 'image_pos', 'image_pos', 'image_neg', 'image_neg', 'image_neg', 'image_pos', 'image_neg', 'image_pos', 'image_pos', 'word_neu', 'word_pos', 'word_pos', 'word_neg', 'word_neg', 'word_pos', 'word_neg', 'word_pos', 'word_neu', 'word_neg', 'word_neg', 'word_neg', 'word_neg', 'word_neu', 'word_pos', 'word_pos', 'word_neg', 'word_neg', 'word_pos', 'word_neu', 'word_neu', 'word_pos', 'word_neg', 'word_neu', 'word_neu', 'word_neg', 'word_neg', 'word_neg', 'word_neu', 'word_pos', 'word_pos', 'word_neg', 'word_pos', 'word_neg', 'word_pos', 'word_pos', 'word_pos', 'word_neu', 'word_neu', 'word_neu', 'word_neu', 'word_pos', 'word_pos', 'word_neu', 'word_neg', 'word_neg', 'word_neg', 'word_neu', 'word_pos', 'word_neu', 'word_neu', 'word_pos', 'word_neu', 'word_neg', 'word_neu', 'word_neg', 'word_neu', 'word_neu', 'word_pos', 'word_pos', 'image_neg', 'image_neg', 'image_pos', 'image_neg', 'image_pos', 'image_neg', 'image_pos', 'image_pos', 'image_neg', 'image_pos', 'image_neg', 'image_neg', 'image_neg', 'image_pos', 'image_pos', 'image_pos', 'image_pos', 'image_pos', 'image_pos', 'image_pos', 'image_pos', 'image_neg', 'image_neg', 'image_pos', 'image_neg', 'image_pos', 'image_neg', 'image_pos', 'image_pos', 'image_neg', 'image_pos', 'image_neg', 'image_neg', 'image_pos', 'image_neg', 'image_neg', 'image_neg', 'image_neg', 'image_pos', 'image_pos', 'image_neg', 'image_pos', 'image_neg', 'image_neg', 'image_neg', 'image_neg', 'image_pos', 'image_pos', 'image_neg', 'image_neg', 'image_neg', 'image_neg', 'image_pos', 'image_neg', 'image_pos', 'image_neg', 'image_pos', 'image_neg', 'image_pos', 'image_pos', 'word_neg', 'word_neg', 'word_neu', 'word_neg', 'word_neu', 'word_neu', 'word_pos', 'word_pos', 'word_neg', 'word_pos', 'word_neu', 'word_neg', 'word_neu', 'word_neu', 'word_pos', 'word_pos', 'word_pos', 'word_pos', 'word_pos', 'word_pos', 'word_pos', 'word_neu', 'word_neg', 'word_pos', 'word_neg', 'word_pos', 'word_neg', 'word_neu', 'word_pos', 'word_neg', 'word_pos', 'word_neg', 'word_neu', 'word_pos', 'word_neu', 'word_neg', 'word_neg', 'word_neu', 'word_pos', 'word_pos', 'word_neg', 'word_neu', 'word_neu', 'word_neg', 'word_neu', 'word_neu', 'word_pos', 'word_pos', 'word_neu', 'word_neg', 'word_neg', 'word_neg', 'word_pos', 'word_neg', 'word_neu', 'word_neg', 'word_neu', 'word_neg', 'word_neu', 'word_neu', 'image_neg', 'image_pos', 'image_neg', 'image_pos', 'image_neg', 'image_neg', 'image_pos', 'image_neg', 'image_pos', 'image_pos', 'image_neg', 'image_pos', 'image_neg', 'image_neg', 'image_pos', 'image_pos', 'image_pos', 'image_pos', 'image_neg', 'image_pos', 'image_pos', 'image_pos', 'image_pos', 'image_neg', 'image_neg', 'image_neg', 'image_pos', 'image_neg', 'image_neg', 'image_pos', 'image_pos', 'image_neg', 'image_pos', 'image_neg', 'image_neg', 'image_pos', 'image_pos', 'image_neg', 'image_neg', 'image_neg', 'image_neg', 'image_pos', 'image_neg', 'image_neg', 'image_neg', 'image_neg', 'image_pos', 'image_neg', 'image_pos', 'image_pos', 'image_pos', 'image_pos', 'image_pos', 'image_neg', 'image_neg', 'image_neg', 'image_pos', 'image_neg', 'image_neg', 'image_pos', 'word_neu', 'word_pos', 'word_neg', 'word_neu', 'word_neg', 'word_neg', 'word_pos', 'word_neu', 'word_neu', 'word_pos', 'word_neg', 'word_pos', 'word_neg', 'word_neu', 'word_pos', 'word_pos', 'word_pos', 'word_pos', 'word_neg', 'word_pos', 'word_pos', 'word_pos', 'word_neu', 'word_neg', 'word_neg', 'word_neg', 'word_pos', 'word_neg', 'word_neg', 'word_pos', 'word_pos', 'word_neg', 'word_pos', 'word_neu', 'word_neg', 'word_neu', 'word_neu', 'word_neg', 'word_neu', 'word_neg', 'word_neg', 'word_neu', 'word_neu', 'word_neg', 'word_neg', 'word_neu', 'word_pos', 'word_neg', 'word_pos', 'word_neu', 'word_pos', 'word_neu', 'word_pos', 'word_neu', 'word_neg', 'word_neu', 'word_pos', 'word_neu', 'word_neu', 'word_neu', 'image_neg', 'image_pos', 'image_neg', 'image_neg', 'image_pos', 'image_neg', 'image_neg', 'image_neg', 'image_neg', 'image_pos', 'image_pos', 'image_neg', 'image_neg', 'image_neg', 'image_pos', 'image_pos', 'image_pos', 'image_neg', 'image_pos', 'image_pos', 'image_neg', 'image_neg', 'image_neg', 'image_neg', 'image_pos', 'image_neg', 'image_pos', 'image_neg', 'image_pos', 'image_pos', 'image_pos', 'image_pos', 'image_pos', 'image_pos', 'image_pos', 'image_pos', 'image_neg', 'image_pos', 'image_neg', 'image_pos', 'image_neg', 'image_pos', 'image_neg', 'image_pos', 'image_neg', 'image_pos', 'image_pos', 'image_pos', 'image_neg', 'image_pos', 'image_neg', 'image_neg', 'image_pos', 'image_neg', 'image_neg', 'image_pos', 'image_pos', 'image_neg', 'image_pos', 'image_neg', 'word_neg', 'word_neu', 'word_neg', 'word_neg', 'word_neu', 'word_neg', 'word_neu', 'word_neu', 'word_neg', 'word_pos', 'word_neu', 'word_neu', 'word_neu', 'word_neg', 'word_neu', 'word_pos', 'word_neu', 'word_neg', 'word_neu', 'word_pos', 'word_neg', 'word_neg', 'word_neg', 'word_neg', 'word_neu', 'word_neg', 'word_neu', 'word_neg', 'word_pos', 'word_pos', 'word_neu', 'word_pos', 'word_pos', 'word_pos', 'word_pos', 'word_pos', 'word_neu', 'word_pos', 'word_neu', 'word_neu', 'word_neg', 'word_pos', 'word_neu', 'word_pos', 'word_neu', 'word_pos', 'word_neu', 'word_pos', 'word_neg', 'word_pos', 'word_neg', 'word_neg', 'word_pos', 'word_neg', 'word_neg', 'word_pos', 'word_pos', 'word_neu', 'word_pos', 'word_neg']\n",
      "Finishing cell: 11:28:41\n"
     ]
    }
   ],
   "source": [
    "# Getting back the objects:\n",
    "N_par=len(models_events) # Number of participants\n",
    "z_maps_all= np.empty((N_par, 0)).tolist()\n",
    "conditions_label_all= np.empty((N_par, 0)).tolist()\n",
    "for i in range(0,5)#range(N_par):\n",
    "    text = \"Loading file %d\\n\" % (i+1)\n",
    "    print(text)\n",
    "    file_name='/work/82777/WordFace_first_level_z_maps_all_trials_all_par_'+str(i)+'.pkl'\n",
    "    f = open(file_name, 'rb')\n",
    "    conditions_label_temp, z_maps_temp = pickle.load(f)\n",
    "    conditions_label_all[i]=conditions_label_temp\n",
    "    z_maps_all[i]=z_maps_temp\n",
    "    f.close()\n",
    "\n",
    "print(conditions_label_all[9])\n",
    "            \n",
    "now = datetime.now()\n",
    "print('Finishing cell:',now.strftime(\"%H:%M:%S\"))"
   ]
  },
  {
   "cell_type": "markdown",
   "metadata": {},
   "source": [
    "## Reshape data for classification"
   ]
  },
  {
   "cell_type": "code",
   "execution_count": 8,
   "metadata": {
    "execution": {
     "iopub.execute_input": "2022-11-28T10:29:35.216043Z",
     "iopub.status.busy": "2022-11-28T10:29:35.215336Z",
     "iopub.status.idle": "2022-11-28T10:29:37.741391Z",
     "shell.execute_reply": "2022-11-28T10:29:37.740410Z",
     "shell.execute_reply.started": "2022-11-28T10:29:35.215986Z"
    },
    "tags": []
   },
   "outputs": [
    {
     "name": "stdout",
     "output_type": "stream",
     "text": [
      "Starting cell: 11:29:35\n",
      "Reshaping participant 1\n",
      "\n",
      "(78, 92, 65, 720)\n",
      "(78, 92, 65, 360)\n",
      "Finishing cell: 11:29:37\n"
     ]
    }
   ],
   "source": [
    "\n",
    "now = datetime.now()\n",
    "print('Starting cell:',now.strftime(\"%H:%M:%S\"))\n",
    "\n",
    "import numpy as np\n",
    "#from nilearn import datasets\n",
    "from nilearn.image import new_img_like, load_img, index_img, clean_img\n",
    "from sklearn.model_selection import train_test_split, GroupKFold\n",
    "\n",
    "N_par=len(models_events) # Number of participants\n",
    "z_maps_img_all= np.empty((N_par, 0)).tolist()\n",
    "z_maps_conc= np.empty((N_par, 0)).tolist()\n",
    "conditions= np.empty((N_par, 0)).tolist()\n",
    "\n",
    "for i in range(0,5):#range(N_par):\n",
    "    n_trials=len(conditions_label_all[i])\n",
    "    text = \"Reshaping participant %d\\n\" % (i+1)\n",
    "    print(text)\n",
    "\n",
    "\n",
    "    # Reshaping data------------------------------\n",
    "    from nilearn.image import index_img, concat_imgs\n",
    "    idx_neg=[int(iii) for iii in range(len(conditions_label_all[i])) if conditions_label_all[i][iii]=='image_neg']\n",
    "    idx_pos=[int(iii) for iii in range(len(conditions_label_all[i])) if conditions_label_all[i][iii]=='image_pos']\n",
    "\n",
    "    #Concatenate trials\n",
    "    idx=np.concatenate((idx_neg, idx_pos))\n",
    "\n",
    "    conditions[i]=np.array(conditions_label_all[i])[idx]\n",
    "    z_maps_conc[i]=concat_imgs(z_maps_all[i])\n",
    "    print(z_maps_conc[i].shape)\n",
    "    z_maps_img_all[i] = index_img(z_maps_conc[i], idx)\n",
    "\n",
    "    print(z_maps_img_all[i].shape)\n",
    "\n",
    "now = datetime.now()\n",
    "print('Finishing cell:',now.strftime(\"%H:%M:%S\"))"
   ]
  },
  {
   "cell_type": "markdown",
   "metadata": {},
   "source": [
    "## create training and testing vars on the basis of class labels"
   ]
  },
  {
   "cell_type": "code",
   "execution_count": 9,
   "metadata": {
    "execution": {
     "iopub.execute_input": "2022-11-28T10:30:20.073196Z",
     "iopub.status.busy": "2022-11-28T10:30:20.072497Z",
     "iopub.status.idle": "2022-11-28T10:30:21.456016Z",
     "shell.execute_reply": "2022-11-28T10:30:21.455251Z",
     "shell.execute_reply.started": "2022-11-28T10:30:20.073140Z"
    },
    "tags": []
   },
   "outputs": [
    {
     "name": "stdout",
     "output_type": "stream",
     "text": [
      "Starting cell: 11:30:20\n",
      "Creating trian/test data for participant 1\n",
      "\n",
      "Finishing cell: 11:30:21\n"
     ]
    }
   ],
   "source": [
    "now = datetime.now()\n",
    "print('Starting cell:',now.strftime(\"%H:%M:%S\"))\n",
    "\n",
    "N_par=len(models_events) # Number of participants\n",
    "idx1= np.empty((N_par, 0)).tolist()\n",
    "idx2= np.empty((N_par, 0)).tolist()\n",
    "conditions1= np.empty((N_par, 0)).tolist()\n",
    "conditions2= np.empty((N_par, 0)).tolist()\n",
    "fmri_img1= np.empty((N_par, 0)).tolist()\n",
    "fmri_img2= np.empty((N_par, 0)).tolist()\n",
    "\n",
    "for i in range (0,5):#(N_par):\n",
    "    text = \"Creating trian/test data for participant %d\\n\" % (i+1)\n",
    "    print(text)\n",
    "    idx2[i]=np.arange(conditions[i].shape[0])\n",
    "    # create training and testing vars on the basis of class labels\n",
    "    idx1[i],idx2[i], conditions1[i],  conditions2[i] = train_test_split(idx2[i],conditions[i], test_size=0.2)\n",
    "    \n",
    "    # Reshaping data------------------------------\n",
    "    from nilearn.image import index_img\n",
    "    fmri_img1[i] = index_img(z_maps_img_all[i], idx1[i])\n",
    "    fmri_img2[i] = index_img(z_maps_img_all[i], idx2[i])\n",
    "\n",
    "now = datetime.now()\n",
    "print('Finishing cell:',now.strftime(\"%H:%M:%S\"))"
   ]
  },
  {
   "cell_type": "code",
   "execution_count": 16,
   "metadata": {
    "execution": {
     "iopub.execute_input": "2022-11-28T10:34:40.803477Z",
     "iopub.status.busy": "2022-11-28T10:34:40.802784Z",
     "iopub.status.idle": "2022-11-28T10:34:40.812232Z",
     "shell.execute_reply": "2022-11-28T10:34:40.811180Z",
     "shell.execute_reply.started": "2022-11-28T10:34:40.803418Z"
    },
    "tags": []
   },
   "outputs": [
    {
     "name": "stdout",
     "output_type": "stream",
     "text": [
      "360\n",
      "288\n",
      "72\n"
     ]
    }
   ],
   "source": [
    "print(len(conditions[0]))\n",
    "print(len(idx1[0]))\n",
    "print(len(idx2[0]))"
   ]
  },
  {
   "cell_type": "markdown",
   "metadata": {
    "tags": []
   },
   "source": [
    "## Prepare a searchlight analysis on the first split"
   ]
  },
  {
   "cell_type": "code",
   "execution_count": 19,
   "metadata": {
    "execution": {
     "iopub.execute_input": "2022-11-28T10:38:13.363747Z",
     "iopub.status.busy": "2022-11-28T10:38:13.363029Z",
     "iopub.status.idle": "2022-11-28T10:38:16.629707Z",
     "shell.execute_reply": "2022-11-28T10:38:16.628909Z",
     "shell.execute_reply.started": "2022-11-28T10:38:13.363674Z"
    },
    "tags": []
   },
   "outputs": [
    {
     "name": "stdout",
     "output_type": "stream",
     "text": [
      "Starting cell: 11:38:13\n"
     ]
    },
    {
     "name": "stderr",
     "output_type": "stream",
     "text": [
      "/tmp/ipykernel_431/2027437144.py:16: DeprecationWarning: `np.int` is a deprecated alias for the builtin `int`. To silence this warning, use `int` by itself. Doing this will not modify any behavior and is safe. When replacing `np.int`, you may wish to use e.g. `np.int64` or `np.int32` to specify the precision. If you wish to review your current use, check the release note link for additional information.\n",
      "Deprecated in NumPy 1.20; for more details and guidance: https://numpy.org/devdocs/release/1.20.0-notes.html#deprecations\n",
      "  process_mask = mask_img.get_fdata().astype(np.int)\n",
      "/tmp/ipykernel_431/2027437144.py:21: UserWarning: Data array used to create a new image contains 64-bit ints. This is likely due to creating the array with numpy and passing `int` as the `dtype`. Many tools such as FSL and SPM cannot deal with int64 in Nifti images, so for compatibility the data has been converted to int32.\n",
      "  process_mask_img = new_img_like(mask_img, process_mask)\n"
     ]
    },
    {
     "name": "stdout",
     "output_type": "stream",
     "text": [
      "Finishing cell: 11:38:15\n"
     ]
    },
    {
     "data": {
      "image/png": "[encoded data removed]",
      "text/plain": [
       "<Figure size 1980x230 with 10 Axes>"
      ]
     },
     "metadata": {},
     "output_type": "display_data"
    }
   ],
   "source": [
    "now = datetime.now()\n",
    "print('Starting cell:',now.strftime(\"%H:%M:%S\"))\n",
    "# -------------------\n",
    "import pandas as pd\n",
    "import numpy as np\n",
    "from nilearn.image import new_img_like, load_img\n",
    "from nilearn.plotting import plot_stat_map, plot_img, show\n",
    "\n",
    "#Whole brain mask. Using one from a one participant for all\n",
    "mask_wb_filename='/work/82777/BIDS/derivatives/sub-0096/anat/sub-0096_acq-T1sequence_run-1_space-MNI152NLin2009cAsym_desc-brain_mask.nii.gz'\n",
    "#Load the whole brain mask\n",
    "mask_img = load_img(mask_wb_filename)\n",
    "\n",
    "\n",
    "# .astype() makes a copy.\n",
    "process_mask = mask_img.get_fdata().astype(np.int)\n",
    "#Set slices below x in the z-dimension to zero (in voxel space)\n",
    "process_mask[..., :30] = 0\n",
    "#Set slices above x in the z-dimension to zero (in voxel space)\n",
    "process_mask[..., 160:] = 0\n",
    "process_mask_img = new_img_like(mask_img, process_mask)\n",
    "\n",
    "\n",
    "#Plot the mask\n",
    "plot_img(process_mask_img, title=\"Mask\", display_mode=\"z\",cut_coords=[-30,-20,-10,0,10,20,30,40,50],\n",
    "         vmin=.40, cmap='jet', threshold=0.9, black_bg=True)\n",
    "#########################################################################\n",
    "\n",
    "\n",
    "#########################################################################\n",
    "\n",
    "now = datetime.now()\n",
    "print('Finishing cell:',now.strftime(\"%H:%M:%S\"))"
   ]
  },
  {
   "cell_type": "markdown",
   "metadata": {
    "execution": {
     "iopub.execute_input": "2022-11-10T13:13:43.468264Z",
     "iopub.status.busy": "2022-11-10T13:13:43.467795Z",
     "iopub.status.idle": "2022-11-10T13:13:43.472523Z",
     "shell.execute_reply": "2022-11-10T13:13:43.471538Z",
     "shell.execute_reply.started": "2022-11-10T13:13:43.468233Z"
    }
   },
   "source": [
    "## Run the searchlight analysis"
   ]
  },
  {
   "cell_type": "code",
   "execution_count": null,
   "metadata": {
    "execution": {
     "iopub.execute_input": "2022-11-28T10:39:14.345978Z",
     "iopub.status.busy": "2022-11-28T10:39:14.345246Z"
    },
    "tags": []
   },
   "outputs": [
    {
     "name": "stdout",
     "output_type": "stream",
     "text": [
      "Starting cell: 11:39:14\n",
      "Conducting searchlight on participant 1\n"
     ]
    },
    {
     "name": "stderr",
     "output_type": "stream",
     "text": [
      "[Parallel(n_jobs=-1)]: Using backend LokyBackend with 16 concurrent workers.\n"
     ]
    }
   ],
   "source": [
    "now = datetime.now()\n",
    "print('Starting cell:',now.strftime(\"%H:%M:%S\"))\n",
    "#n_jobs=-1 means that all CPUs will be used\n",
    "\n",
    "from nilearn.plotting import plot_stat_map, plot_img, show\n",
    "from nilearn import decoding\n",
    "from sklearn import naive_bayes, model_selection #import GaussianNB\n",
    "from nilearn.decoding import SearchLight\n",
    "from sklearn.svm import LinearSVC\n",
    "\n",
    "\n",
    "N_par=len(models_events) # Number of participants\n",
    "searchlight_all= np.empty((N_par, 0)).tolist()\n",
    "\n",
    "for i in range(0,5):#(N_par):\n",
    "    text = \"Conducting searchlight on participant %d\" % (i+1)\n",
    "    print(text)\n",
    "    # The radius is the one of the Searchlight sphere that will scan the volume\n",
    "    searchlight_all[i] = SearchLight(\n",
    "        mask_img,\n",
    "        estimator=LinearSVC(penalty='l2'),\n",
    "        process_mask_img=process_mask_img,\n",
    "        radius=5, n_jobs=-1,\n",
    "        verbose=10, cv=10)\n",
    "    searchlight_all[i].fit(fmri_img1[i], conditions1[i])\n",
    "    searchlight_res=searchlight_all[i]\n",
    "\n",
    "    import pickle\n",
    "    file_name='/work/MikkelWallentin#6287/WordFace_searchlight_'+str(i)+'.pkl'\n",
    "    # Saving the objects:\n",
    "    f = open(file_name, 'wb')\n",
    "    pickle.dump(searchlight_res, f)\n",
    "    f.close()\n",
    "\n",
    "\n",
    "\n",
    "now = datetime.now()\n",
    "print('Finishing cell:',now.strftime(\"%H:%M:%S\"))"
   ]
  },
  {
   "cell_type": "markdown",
   "metadata": {},
   "source": [
    "## Save/restore the variables"
   ]
  },
  {
   "cell_type": "code",
   "execution_count": null,
   "metadata": {
    "tags": []
   },
   "outputs": [],
   "source": [
    "\n",
    "\n",
    "# Getting back the objects:\n",
    "#f = open('/work/MikkelWallentin#6287/WordFace_first_level_models_all_trials_searchlight_all_par.pkl', 'rb')\n",
    "#searchlight = pickle.load(f)\n",
    "#f.close()\n",
    "\n",
    "now = datetime.now()\n",
    "print('Finishing cell:',now.strftime(\"%H:%M:%S\"))"
   ]
  },
  {
   "cell_type": "markdown",
   "metadata": {},
   "source": [
    "## Plot the outcome of the searchlight analysis"
   ]
  },
  {
   "cell_type": "code",
   "execution_count": null,
   "metadata": {
    "tags": []
   },
   "outputs": [],
   "source": [
    "from nilearn.plotting import plot_glass_brain\n",
    "\n",
    "from nilearn import plotting\n",
    "import matplotlib.pyplot as plt\n",
    "\n",
    "now = datetime.now()\n",
    "print('Starting cell:',now.strftime(\"%H:%M:%S\"))\n",
    "\n",
    "N_par=len(models_events) # Number of participants\n",
    "searchlight_img= np.empty((N_par, 0)).tolist()\n",
    "\n",
    "fig, axes = plt.subplots(nrows=5, ncols=5, figsize=(20, 20)) \n",
    "for i in range(N_par):\n",
    "    #Create an image of the searchlight scores\n",
    "    searchlight_img[i] = new_img_like(mask_wb_filename, searchlight_all[i].scores_)\n",
    "    plotting.plot_glass_brain(searchlight_img[i], cmap='jet',colorbar=True, threshold=0.6,\n",
    "                              title=('sub-' + i+1),\n",
    "                              axes=axes[int(m_idx / 5), int(m_idx % 5)],\n",
    "                              plot_abs=False, display_mode='x')\n",
    "\n",
    "   \n",
    "fig.suptitle('Classification accuracy (unc Acc>0.6)')\n",
    "plt.show()\n",
    "\n",
    "# Saving the objects:\n",
    "f = open('/work/MikkelWallentin#6287/WordFace_first_level_models_all_trials_searchlight_all_par.pkl', 'wb')\n",
    "pickle.dump([searchlight_all, searchlight_img], f)\n",
    "f.close()\n",
    "\n",
    "now = datetime.now()\n",
    "print('Finishing cell:',now.strftime(\"%H:%M:%S\"))"
   ]
  },
  {
   "cell_type": "markdown",
   "metadata": {},
   "source": [
    "### Find the 500 most predictive voxels "
   ]
  },
  {
   "cell_type": "code",
   "execution_count": null,
   "metadata": {
    "tags": []
   },
   "outputs": [],
   "source": [
    "now = datetime.now()\n",
    "print('Starting cell:',now.strftime(\"%H:%M:%S\"))\n",
    "\n",
    "N_par=len(models_events) # Number of participants\n",
    "cut= np.empty((N_par, 0)).tolist()\n",
    "perc= np.empty((N_par, 0)).tolist()\n",
    "process_mask2_img[i]= np.empty((N_par, 0)).tolist()\n",
    "\n",
    "\n",
    "#Load the whole brain mask\n",
    "mask_img2 = load_img(mask_wb_filename)\n",
    "\n",
    "for i in range(0,5):#N_par):\n",
    "    #Find the percentile that makes the cutoff for the 500 best voxels\n",
    "    perc[i]=100*(1-500.0/searchlight_all.scores_.size)\n",
    "    #Find the cutoff\n",
    "    cut[i]=np.percentile(searchlight_all[i].scores_,perc)\n",
    "    #Print cutoff\n",
    "    text='Cutoff for participant %d: %d ' % (i+1, cut[i])\n",
    "    print(text)\n",
    "\n",
    "    # .astype() makes a copy.\n",
    "    process_mask2 = mask_img2.get_fdata().astype(np.int)\n",
    "    process_mask2[searchlight_all[i].scores_<=cut[i]] = 0\n",
    "    process_mask2_img[i] = new_img_like(mask_img2, process_mask2)\n",
    "\n",
    "    \n",
    "\n",
    "# Saving the objects:\n",
    "f = open('/work/MikkelWallentin#6287/WordFace_first_level_models_all_trials_searchlight_all_par.pkl', 'wb')\n",
    "pickle.dump([searchlight_all, searchlight_img, cut, perc, process_mask2_img], f)\n",
    "f.close()\n",
    "\n",
    "now = datetime.now()\n",
    "print('Finishing cell:',now.strftime(\"%H:%M:%S\"))"
   ]
  },
  {
   "cell_type": "code",
   "execution_count": null,
   "metadata": {},
   "outputs": [],
   "source": [
    "### Make a classification on the 2nd split using the best voxels"
   ]
  },
  {
   "cell_type": "markdown",
   "metadata": {},
   "source": [
    "### Perform a permutation test"
   ]
  },
  {
   "cell_type": "code",
   "execution_count": null,
   "metadata": {
    "tags": []
   },
   "outputs": [],
   "source": [
    "now = datetime.now()\n",
    "print('Starting cell:',now.strftime(\"%H:%M:%S\"))\n",
    "\n",
    "from sklearn.model_selection import permutation_test_score\n",
    "\n",
    "for i in range(0,5):#(N_par):\n",
    "    \n",
    "    masker = NiftiMasker(mask_img=process_mask2_img[i], standardize=False)\n",
    "    # We use masker to retrieve a 2D array ready\n",
    "    # for machine learning with scikit-learn\n",
    "    fmri_masked = masker.fit_transform(fmri_img2[i])\n",
    "    #Print size of matrix (images x voxels)\n",
    "    \n",
    "    score[i], permutation_scores[i], pvalue[i]= permutation_test_score(\n",
    "        LinearSVC(penalty='l2'), fmri_masked[i], conditions2[i], cv=10, n_permutations=1000, \n",
    "        n_jobs=-1, random_state=0, verbose=0, scoring=None)\n",
    "    print(\"Classification Accuracy for participant %d: %s (pvalue : %s)\" % (i,score, pvalue))\n",
    " \n",
    "# Saving the objects:\n",
    "f = open('/work/MikkelWallentin#6287/WordFace_first_level_models_all_trials_searchlight_all_par.pkl', 'wb')\n",
    "pickle.dump([searchlight_all, searchlight_img, cut, perc, process_mask2_img, score,permutation_score,pvalue], f)\n",
    "f.close()\n",
    "\n",
    "\n",
    "now = datetime.now()\n",
    "print('Finishing cell:',now.strftime(\"%H:%M:%S\"))"
   ]
  },
  {
   "cell_type": "markdown",
   "metadata": {},
   "source": [
    "### View a histogram of permutation scores"
   ]
  },
  {
   "cell_type": "code",
   "execution_count": null,
   "metadata": {
    "tags": []
   },
   "outputs": [],
   "source": [
    "#import numpy as np\n",
    "#import matplotlib.pyplot as plt\n",
    "#How many classes\n",
    "#n_classes = np.unique(conditions2).size\n",
    "\n",
    "#plt.hist(permutation_scores, 20, label='Permutation scores',\n",
    "#         edgecolor='black')\n",
    "#ylim = plt.ylim()\n",
    "#plt.plot(2 * [score], ylim, '--g', linewidth=3,\n",
    "#         label='Classification Score'\n",
    "#         ' (pvalue %s)' % pvalue)\n",
    "#plt.plot(2 * [1. / n_classes], ylim, '--k', linewidth=3, label='Chance level')\n",
    "\n",
    "#plt.ylim(ylim)\n",
    "#plt.legend()\n",
    "#plt.xlabel('Score')\n",
    "#plt.show()"
   ]
  },
  {
   "cell_type": "code",
   "execution_count": null,
   "metadata": {},
   "outputs": [],
   "source": []
  }
 ],
 "metadata": {
  "kernelspec": {
   "display_name": "Python 3 ",
   "language": "python",
   "name": "python3"
  },
  "language_info": {
   "codemirror_mode": {
    "name": "ipython",
    "version": 3
   },
   "file_extension": ".py",
   "mimetype": "text/x-python",
   "name": "python",
   "nbconvert_exporter": "python",
   "pygments_lexer": "ipython3",
   "version": "3.10.10"
  }
 },
 "nbformat": 4,
 "nbformat_minor": 4
}
