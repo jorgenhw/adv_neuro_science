{
 "cells": [
  {
   "cell_type": "code",
   "execution_count": 3,
   "id": "b49519cd-47a4-4883-bfcb-3a88d8c56c99",
   "metadata": {},
   "outputs": [
    {
     "name": "stdout",
     "output_type": "stream",
     "text": [
      "Installed kernelspec virt_env in /home/ucloud/.local/share/jupyter/kernels/virt_env\n",
      "Done!\n"
     ]
    }
   ],
   "source": [
    "import os\n",
    "path='/work/798873'\n",
    "os.chdir(path)\n",
    "!./activate.sh\n"
   ]
  },
  {
   "cell_type": "code",
   "execution_count": 2,
   "id": "5d4c6872-e6bc-49ee-8134-bfee540ce99d",
   "metadata": {},
   "outputs": [
    {
     "name": "stdout",
     "output_type": "stream",
     "text": [
      "/work/798873/virt_env/bin/python\n"
     ]
    }
   ],
   "source": [
    "import sys\n",
    "print(sys.executable)\n",
    "import nilearn"
   ]
  },
  {
   "cell_type": "code",
   "execution_count": null,
   "id": "8b2fc0df-0ceb-4fb8-8d94-70145616796b",
   "metadata": {},
   "outputs": [],
   "source": []
  }
 ],
 "metadata": {
  "kernelspec": {
   "display_name": "virt_env",
   "language": "python",
   "name": "virt_env"
  },
  "language_info": {
   "codemirror_mode": {
    "name": "ipython",
    "version": 3
   },
   "file_extension": ".py",
   "mimetype": "text/x-python",
   "name": "python",
   "nbconvert_exporter": "python",
   "pygments_lexer": "ipython3",
   "version": "3.10.10"
  }
 },
 "nbformat": 4,
 "nbformat_minor": 5
}
